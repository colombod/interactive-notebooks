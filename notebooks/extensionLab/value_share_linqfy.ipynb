{
 "cells": [
  {
   "cell_type": "markdown",
   "metadata": {},
   "source": [
    "# Load additional modules and import namespaces"
   ]
  },
  {
   "cell_type": "code",
   "execution_count": 1,
   "metadata": {},
   "source": [
    "#r \"nuget:Microsoft.DotNet.Interactive.ExtensionLab,*-*\""
   ],
   "outputs": []
  },
  {
   "cell_type": "markdown",
   "metadata": {},
   "source": [
    "# Declare a csv data fragment"
   ]
  },
  {
   "cell_type": "code",
   "execution_count": 1,
   "metadata": {},
   "source": [
    "#!value --name dataSource \r\n",
    "Name,Sex,Age,Height,Weight\r\n",
    "Alex,M,41,74,170\r\n",
    "Bert,M,42,68,166\r\n",
    "Carl,M,32,70,155\r\n",
    "Dave,M,39,72,167\r\n",
    "Elly,F,30,66,124\r\n",
    "Fran,F,33,66,115\r\n",
    "Gwen,F,26,64,121\r\n",
    "Hank,M,30,71,158\r\n",
    "Ivan,M,53,72,175\r\n",
    "Jake,M,32,69,143\r\n",
    "Kate,F,47,69,139\r\n",
    "Luke,M,34,72,163\r\n",
    "Myra,F,23,62,98\r\n",
    "Neil,M,36,75,160\r\n",
    "Omar,M,38,70,145\r\n",
    "Page,F,31,67,135\r\n",
    "Quin,M,29,71,176\r\n",
    "Ruth,F,28,65,131\r\n",
    ""
   ],
   "outputs": []
  },
  {
   "cell_type": "markdown",
   "metadata": {},
   "source": [
    "Load the data inside the csharp kernel now"
   ]
  },
  {
   "cell_type": "code",
   "execution_count": 1,
   "metadata": {},
   "source": [
    "#!share --from value dataSource"
   ],
   "outputs": []
  },
  {
   "cell_type": "code",
   "execution_count": 1,
   "metadata": {},
   "source": [
    "dataSource"
   ],
   "outputs": []
  },
  {
   "cell_type": "markdown",
   "metadata": {},
   "source": [
    "Build a dataDrame"
   ]
  },
  {
   "cell_type": "code",
   "execution_count": 1,
   "metadata": {},
   "source": [
    "using Microsoft.Data.Analysis;\r\n",
    "var frame = DataFrame.LoadCsv(dataSource.ToStream());"
   ],
   "outputs": []
  },
  {
   "cell_type": "markdown",
   "metadata": {},
   "source": [
    "Generate a stringly typed collection"
   ]
  },
  {
   "cell_type": "code",
   "execution_count": 1,
   "metadata": {},
   "source": [
    "#!linqify frame"
   ],
   "outputs": []
  },
  {
   "cell_type": "code",
   "execution_count": 1,
   "metadata": {},
   "source": [
    "frame.Select(s => new {s.Height, s.Age})"
   ],
   "outputs": []
  },
  {
   "cell_type": "markdown",
   "metadata": {},
   "source": [
    "Explore it"
   ]
  },
  {
   "cell_type": "code",
   "execution_count": 1,
   "metadata": {},
   "source": [
    "frame.Explore()"
   ],
   "outputs": []
  },
  {
   "cell_type": "code",
   "execution_count": 1,
   "metadata": {},
   "source": [
    ""
   ],
   "outputs": []
  },
  {
   "cell_type": "code",
   "execution_count": 1,
   "metadata": {},
   "source": [
    ""
   ],
   "outputs": []
  }
 ],
 "metadata": {
  "kernelspec": {
   "display_name": ".NET (C#)",
   "language": "C#",
   "name": ".net-csharp"
  },
  "language_info": {
   "file_extension": ".cs",
   "mimetype": "text/x-csharp",
   "name": "C#",
   "pygments_lexer": "csharp",
   "version": "8.0"
  }
 },
 "nbformat": 4,
 "nbformat_minor": 4
}