{
 "cells": [
  {
   "cell_type": "markdown",
   "metadata": {},
   "source": [
    "# Building heap sort\r\n",
    "\r\n",
    "Heapsort is a sorting algorithm that leverages the heap data stricture to sort a collection in place"
   ]
  },
  {
   "cell_type": "markdown",
   "metadata": {},
   "source": [
    "## Make an array satisfy the heap condition\r\n",
    "\r\n",
    "* a value at position `i` will have its left child element at `2*i + 1` and hte right child element at `2*i + 2`\r\n",
    "* if a child element violates the heap condition (min heap requires all children to be less or equal to the parent) swap\r\n",
    "* if heap conditions where violate rebuild teh heap structure where the change happen"
   ]
  },
  {
   "cell_type": "code",
   "execution_count": 1,
   "metadata": {},
   "source": [
    "void Heapify(int[] arr,int n, int i) {\r\n",
    "    var largest = i;\r\n",
    "    var left = 2*i + 1;\r\n",
    "    var right = 2*i + 2;\r\n",
    "    if (left < n && arr[left] > arr[largest]) {\r\n",
    "        largest = left;\r\n",
    "    }\r\n",
    "    \r\n",
    "    if (right < n && arr[right] > arr[largest]) {\r\n",
    "        largest = right;\r\n",
    "    }\r\n",
    "    if (largest != i) {\r\n",
    "        var swap = arr[i];\r\n",
    "        arr[i] = arr[largest];\r\n",
    "        arr[largest] = swap;\r\n",
    "        Heapify(arr, n, largest);\r\n",
    "    }\r\n",
    "}"
   ],
   "outputs": []
  },
  {
   "cell_type": "markdown",
   "metadata": {},
   "source": [
    "# Let's sort a collection using the heap data structure \r\n",
    "A max heap will always have the max at `arr[0]`, is we now rebuild the heap from `arr[1]` and keep repeating this till the end we will have sorted the array"
   ]
  },
  {
   "cell_type": "code",
   "execution_count": 1,
   "metadata": {},
   "source": [
    "void HeapSort(int[] arr, int n = 0) {\r\n",
    "    n = n == 0? arr.Length: n;\r\n",
    "    for (var i = n / 2 - 1; i >= 0; i--) {\r\n",
    "        Heapify(arr, n, i);\r\n",
    "    }\r\n",
    "    \r\n",
    "    for (int i = n-1; i>=0; i--) {\r\n",
    "        var temp = arr[0];\r\n",
    "        arr[0] = arr[i];\r\n",
    "        arr[i] = temp;\r\n",
    "        Heapify(arr, i, 0);\r\n",
    "    }\r\n",
    "}"
   ],
   "outputs": []
  },
  {
   "cell_type": "markdown",
   "metadata": {},
   "source": [
    "# Tests"
   ]
  },
  {
   "cell_type": "code",
   "execution_count": 1,
   "metadata": {},
   "source": [
    "var data = new []{55, 25, 89, 34, 12, 19, 78, 95, 1, 100, 322};\r\n",
    "\r\n",
    "data"
   ],
   "outputs": [
    {
     "output_type": "execute_result",
     "data": {
      "text/html": "<table><thead><tr><th><i>index</i></th><th>value</th></tr></thead><tbody><tr><td>0</td><td><div class=\"dni-plaintext\">55</div></td></tr><tr><td>1</td><td><div class=\"dni-plaintext\">25</div></td></tr><tr><td>2</td><td><div class=\"dni-plaintext\">89</div></td></tr><tr><td>3</td><td><div class=\"dni-plaintext\">34</div></td></tr><tr><td>4</td><td><div class=\"dni-plaintext\">12</div></td></tr><tr><td>5</td><td><div class=\"dni-plaintext\">19</div></td></tr><tr><td>6</td><td><div class=\"dni-plaintext\">78</div></td></tr><tr><td>7</td><td><div class=\"dni-plaintext\">95</div></td></tr><tr><td>8</td><td><div class=\"dni-plaintext\">1</div></td></tr><tr><td>9</td><td><div class=\"dni-plaintext\">100</div></td></tr><tr><td>10</td><td><div class=\"dni-plaintext\">322</div></td></tr></tbody></table>"
     },
     "execution_count": 1,
     "metadata": {}
    }
   ]
  },
  {
   "cell_type": "code",
   "execution_count": 1,
   "metadata": {},
   "source": [
    "HeapSort(data);\r\n",
    "data"
   ],
   "outputs": [
    {
     "output_type": "execute_result",
     "data": {
      "text/html": "<table><thead><tr><th><i>index</i></th><th>value</th></tr></thead><tbody><tr><td>0</td><td><div class=\"dni-plaintext\">1</div></td></tr><tr><td>1</td><td><div class=\"dni-plaintext\">12</div></td></tr><tr><td>2</td><td><div class=\"dni-plaintext\">19</div></td></tr><tr><td>3</td><td><div class=\"dni-plaintext\">25</div></td></tr><tr><td>4</td><td><div class=\"dni-plaintext\">34</div></td></tr><tr><td>5</td><td><div class=\"dni-plaintext\">55</div></td></tr><tr><td>6</td><td><div class=\"dni-plaintext\">78</div></td></tr><tr><td>7</td><td><div class=\"dni-plaintext\">89</div></td></tr><tr><td>8</td><td><div class=\"dni-plaintext\">95</div></td></tr><tr><td>9</td><td><div class=\"dni-plaintext\">100</div></td></tr></tbody></table>"
     },
     "execution_count": 1,
     "metadata": {}
    }
   ]
  },
  {
   "cell_type": "code",
   "execution_count": 1,
   "metadata": {},
   "source": [
    ""
   ],
   "outputs": []
  }
 ],
 "metadata": {
  "kernelspec": {
   "display_name": ".NET (C#)",
   "language": "C#",
   "name": ".net-csharp"
  },
  "language_info": {
   "file_extension": ".cs",
   "mimetype": "text/x-csharp",
   "name": "C#",
   "pygments_lexer": "csharp",
   "version": "8.0"
  }
 },
 "nbformat": 4,
 "nbformat_minor": 4
}